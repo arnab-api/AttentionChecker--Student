{
 "cells": [
  {
   "cell_type": "code",
   "execution_count": 1,
   "source": [
    "import numpy as np\n",
    "import matplotlib.pyplot as plt\n",
    "import json"
   ],
   "outputs": [],
   "metadata": {}
  },
  {
   "cell_type": "code",
   "execution_count": 22,
   "source": [
    "\n",
    "import copy\n",
    "\n",
    "child_last   = \"└─── \"\n",
    "child_middle = \"├─── \"\n",
    "space_pre    = \"     \"\n",
    "middle_pre   = \"│    \"\n",
    "def build_tree(obj, key='#', level=0, level_info = {}):\n",
    "    if(level > 0):\n",
    "        for i in range(level-1):\n",
    "            if(level_info[i] == 'last'):\n",
    "                print(space_pre, end=\"\")\n",
    "            else:\n",
    "                print(middle_pre, end=\"\")\n",
    "        if(level_info[level-1] == 'last'):\n",
    "            child_pre = child_last\n",
    "        else:\n",
    "            child_pre = child_middle\n",
    "        print(child_pre, end=\"\")\n",
    "    \n",
    "    if(key != '#'):\n",
    "        print(key, end=\": \")\n",
    "    print(type(obj), end=\" \")\n",
    "    if(type(obj) is list):\n",
    "        print(\"[{}]\".format(len(obj)))\n",
    "    else:\n",
    "        print()\n",
    "    if(type(obj) is dict):\n",
    "        key_arr = list(obj.keys())\n",
    "        for idx in range(len(key_arr)):\n",
    "            li = copy.deepcopy(level_info)\n",
    "            if(idx == len(key_arr)-1):\n",
    "                li[level] = 'last'\n",
    "            else:\n",
    "                li[level] = 'middle'\n",
    "            \n",
    "            key = key_arr[idx]\n",
    "            build_tree(obj[key], key=key, level = level + 1, level_info = li)\n",
    "    elif(type(obj) is list):\n",
    "        li = copy.deepcopy(level_info)\n",
    "        li[level] = 'last'\n",
    "        build_tree(obj[0], key='#', level = level + 1, level_info = li)"
   ],
   "outputs": [],
   "metadata": {}
  },
  {
   "cell_type": "code",
   "execution_count": 23,
   "source": [
    "def plotface(datapoint):\n",
    "    xrr = []\n",
    "    yrr = []\n",
    "\n",
    "    for keypoint in datapoint['face']:\n",
    "        xrr.append(keypoint[0])\n",
    "        yrr.append(keypoint[1])\n",
    "\n",
    "    xrr = np.array(xrr)\n",
    "    yrr = np.array(yrr)\n",
    "\n",
    "    plt.scatter(xrr, yrr, s = 5)\n",
    "    plt.xlim([xrr.min(), xrr.max()])\n",
    "    plt.ylim([yrr.min(), yrr.max()])\n",
    "    plt.gca().invert_yaxis()\n",
    "    plt.gca().set_aspect('equal', adjustable='box')"
   ],
   "outputs": [],
   "metadata": {}
  },
  {
   "cell_type": "code",
   "execution_count": 30,
   "source": [
    "def gaze__processOneSession(gaze_arr):\n",
    "    xrr = []\n",
    "    yrr = []\n",
    "    for gaze in gaze_arr:\n",
    "        xrr.append(gaze[\"gaze\"][\"x\"])\n",
    "        yrr.append(gaze[\"gaze\"][\"y\"])\n",
    "    return np.array(xrr), np.array(yrr)"
   ],
   "outputs": [],
   "metadata": {}
  },
  {
   "cell_type": "code",
   "execution_count": 24,
   "source": [
    "path_root = \"/home/arnab/MEGAsync/Eye Tracking/Data_Backup/saved_sessions_september_24/\""
   ],
   "outputs": [],
   "metadata": {}
  },
  {
   "cell_type": "code",
   "execution_count": 40,
   "source": [
    "session_name = \"session_2021-09-24T10:10:40.966059/session_2021-09-24T10:10:40.966059.json\"\n",
    "with open(path_root + session_name, 'r') as f:\n",
    "    session = json.load(f)"
   ],
   "outputs": [],
   "metadata": {}
  },
  {
   "cell_type": "code",
   "execution_count": 41,
   "source": [
    "build_tree(session)"
   ],
   "outputs": [
    {
     "output_type": "stream",
     "name": "stdout",
     "text": [
      "<class 'dict'> \n",
      "└─── hdehheeafrlqlylodn58si: <class 'list'> [241]\n",
      "     └─── <class 'dict'> \n",
      "          ├─── gaze: <class 'dict'> \n",
      "          │    ├─── x: <class 'float'> \n",
      "          │    └─── y: <class 'float'> \n",
      "          ├─── gazefeatures: <class 'dict'> \n",
      "          │    ├─── gaze: <class 'list'> [2]\n",
      "          │    │    └─── <class 'int'> \n",
      "          │    └─── screen: <class 'list'> [2]\n",
      "          │         └─── <class 'int'> \n",
      "          ├─── face: <class 'list'> [468]\n",
      "          │    └─── <class 'list'> [3]\n",
      "          │         └─── <class 'int'> \n",
      "          └─── timestamp: <class 'dict'> \n",
      "               ├─── hour: <class 'int'> \n",
      "               ├─── minute: <class 'int'> \n",
      "               ├─── seconds: <class 'int'> \n",
      "               └─── milliseconds: <class 'int'> \n"
     ]
    }
   ],
   "metadata": {}
  },
  {
   "cell_type": "code",
   "execution_count": 42,
   "source": [
    "datapoint = None\n",
    "for id in session:\n",
    "    print(id)\n",
    "    for dp in session[id]:\n",
    "        datapoint = dp\n",
    "        break"
   ],
   "outputs": [
    {
     "output_type": "stream",
     "name": "stdout",
     "text": [
      "hdehheeafrlqlylodn58si\n"
     ]
    }
   ],
   "metadata": {}
  },
  {
   "cell_type": "code",
   "execution_count": 43,
   "source": [
    "plotface(datapoint)"
   ],
   "outputs": [
    {
     "output_type": "display_data",
     "data": {
      "image/png": "[encoded data removed]",
      "text/plain": [
       "<Figure size 896x504 with 1 Axes>"
      ]
     },
     "metadata": {
      "needs_background": "light"
     }
    }
   ],
   "metadata": {}
  },
  {
   "cell_type": "code",
   "execution_count": 44,
   "source": [
    "xrr, yrr = gaze__processOneSession(session['hdehheeafrlqlylodn58si'])\n",
    "xrr.shape, yrr.shape\n",
    "\n"
   ],
   "outputs": [
    {
     "output_type": "execute_result",
     "data": {
      "text/plain": [
       "((241,), (241,))"
      ]
     },
     "metadata": {},
     "execution_count": 44
    }
   ],
   "metadata": {}
  },
  {
   "cell_type": "code",
   "execution_count": 50,
   "source": [
    "scle = 7\n",
    "plt.rcParams[\"figure.figsize\"] = (scle*16/9,scle)\n",
    "plt.scatter(xrr, yrr, s=scle)\n",
    "plt.xlim([0,1])\n",
    "plt.ylim([0,1])\n",
    "plt.gca().invert_yaxis()\n",
    "plt.scatter(.5,.5, color='k')"
   ],
   "outputs": [
    {
     "output_type": "execute_result",
     "data": {
      "text/plain": [
       "<matplotlib.collections.PathCollection at 0x7fdd29d036a0>"
      ]
     },
     "metadata": {},
     "execution_count": 50
    },
    {
     "output_type": "display_data",
     "data": {
      "image/png": "[encoded data removed]",
      "text/plain": [
       "<Figure size 896x504 with 1 Axes>"
      ]
     },
     "metadata": {
      "needs_background": "light"
     }
    }
   ],
   "metadata": {}
  },
  {
   "cell_type": "code",
   "execution_count": 52,
   "source": [
    "marker_track = {\n",
    "    \"Position 1\":   [.5, .5],\n",
    "    \"Position 2\":   [.1, .1],\t\n",
    "    \"Position 3\":   [.8, .1],\t\n",
    "    \"Position 4\":\t[.8, .8],\t\n",
    "    \"Position 5\":\t[.1, .8],\t\n",
    "}"
   ],
   "outputs": [],
   "metadata": {}
  },
  {
   "cell_type": "code",
   "execution_count": 51,
   "source": [
    "with open(\"session_track.json\", 'r') as f:\n",
    "    session_track = json.load(f)"
   ],
   "outputs": [],
   "metadata": {}
  },
  {
   "cell_type": "code",
   "execution_count": 53,
   "source": [
    "def loadjson_session(session_name):\n",
    "    folder = session_name.split('.')[0]\n",
    "    with open(path_root + folder + \"/\" + session_name, r) as f:\n",
    "        return json.load(f)"
   ],
   "outputs": [],
   "metadata": {}
  },
  {
   "cell_type": "code",
   "execution_count": null,
   "source": [
    "for i in range(1, 6):\n",
    "    key = \"Position {}\".format(i)\n",
    "    glass_on = loadjson_session(session_track['P1'][key])\n",
    "    glass_off = loadjson_session(session_track['P1_without_glasses'][key])\n",
    "\n",
    "    "
   ],
   "outputs": [],
   "metadata": {}
  }
 ],
 "metadata": {
  "orig_nbformat": 4,
  "language_info": {
   "name": "python",
   "version": "3.6.13",
   "mimetype": "text/x-python",
   "codemirror_mode": {
    "name": "ipython",
    "version": 3
   },
   "pygments_lexer": "ipython3",
   "nbconvert_exporter": "python",
   "file_extension": ".py"
  },
  "kernelspec": {
   "name": "python3",
   "display_name": "Python 3.6.13 64-bit ('eye': conda)"
  },
  "interpreter": {
   "hash": "472d58db8226380eed1507c76913fd19481a4464b50b84fe7503fb5fa3f2d9a7"
  }
 },
 "nbformat": 4,
 "nbformat_minor": 2
}